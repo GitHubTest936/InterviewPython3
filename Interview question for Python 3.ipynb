{
 "cells": [
  {
   "cell_type": "code",
   "execution_count": 1,
   "metadata": {},
   "outputs": [],
   "source": [
    "input_value = {\n",
    "  'hired': {\n",
    "    'be': {\n",
    "      'to': {\n",
    "        'deserve': 'I'\n",
    "      }\n",
    "    }\n",
    "  }\n",
    "}"
   ]
  },
  {
   "cell_type": "code",
   "execution_count": 2,
   "metadata": {},
   "outputs": [],
   "source": [
    "def dictreverse(input_value):\n",
    "    AllList = []\n",
    "    global inside\n",
    "    while isinstance(input_value,dict):\n",
    "        AllList.append(list(input_value.keys())[0])\n",
    "        input_value = input_value[list(input_value.keys())[0]]\n",
    "\n",
    "    AllList.append(input_value)\n",
    "\n",
    "    for i in range(len(AllList)-1):\n",
    "        if i == 0: \n",
    "            inside = {AllList[1]:AllList[0]}\n",
    "        else:\n",
    "            inside = {AllList[i+1]:inside}\n",
    "\n",
    "    return(inside)"
   ]
  },
  {
   "cell_type": "code",
   "execution_count": 3,
   "metadata": {},
   "outputs": [
    {
     "data": {
      "text/plain": [
       "{'I': {'deserve': {'to': {'be': 'hired'}}}}"
      ]
     },
     "execution_count": 3,
     "metadata": {},
     "output_type": "execute_result"
    }
   ],
   "source": [
    "dictreverse(input_value)"
   ]
  }
 ],
 "metadata": {
  "kernelspec": {
   "display_name": "Python 3",
   "language": "python",
   "name": "python3"
  },
  "language_info": {
   "codemirror_mode": {
    "name": "ipython",
    "version": 3
   },
   "file_extension": ".py",
   "mimetype": "text/x-python",
   "name": "python",
   "nbconvert_exporter": "python",
   "pygments_lexer": "ipython3",
   "version": "3.7.4"
  }
 },
 "nbformat": 4,
 "nbformat_minor": 2
}
